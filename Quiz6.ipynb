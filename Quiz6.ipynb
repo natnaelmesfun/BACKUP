{
 "cells": [
  {
   "cell_type": "code",
   "execution_count": 1,
   "metadata": {},
   "outputs": [
    {
     "name": "stdout",
     "output_type": "stream",
     "text": [
      "-0.3333333333333333\n"
     ]
    },
    {
     "data": {
      "text/plain": [
       "0.63055865981823633"
      ]
     },
     "execution_count": 1,
     "metadata": {},
     "output_type": "execute_result"
    }
   ],
   "source": [
    "from scipy import stats\n",
    "import math\n",
    "c = (14-15)/3\n",
    "print(c)\n",
    "d = -(14-15)/math.sqrt(9/36)\n",
    "#print(d)\n",
    "stats.norm.cdf(-c)"
   ]
  },
  {
   "cell_type": "code",
   "execution_count": 3,
   "metadata": {},
   "outputs": [
    {
     "name": "stdout",
     "output_type": "stream",
     "text": [
      "3.09023230617\n"
     ]
    }
   ],
   "source": [
    "stats.norm.cdf(1)\n",
    "x= stats.norm.ppf(0.999)\n",
    "print(x)"
   ]
  },
  {
   "cell_type": "code",
   "execution_count": null,
   "metadata": {
    "collapsed": true
   },
   "outputs": [],
   "source": [
    "A = [2, 5, 6, 7, 10]\n",
    "B = [3, 4, 8, 9, 10]\n",
    "\n",
    "def findCommonelement(A, B):\n",
    "    for i in range(len(A)):\n",
    "        for j in range(len(B)):\n",
    "            #print(i,j)\n",
    "            if (A[i] == B[j]):\n",
    "                return True\n",
    "                \n",
    "    return False\n",
    "#print(len(A))\n",
    "print('answer:',findCommonelement([2, 5, 6, 7, 10], [3, 4, 8, 9, 10]))"
   ]
  },
  {
   "cell_type": "code",
   "execution_count": 4,
   "metadata": {},
   "outputs": [
    {
     "name": "stdout",
     "output_type": "stream",
     "text": [
      "2.70038949998\n"
     ]
    }
   ],
   "source": [
    "print(stats.chi2.ppf(0.025, df=9))"
   ]
  },
  {
   "cell_type": "code",
   "execution_count": null,
   "metadata": {
    "collapsed": true
   },
   "outputs": [],
   "source": []
  }
 ],
 "metadata": {
  "kernelspec": {
   "display_name": "Python 3",
   "language": "python",
   "name": "python3"
  },
  "language_info": {
   "codemirror_mode": {
    "name": "ipython",
    "version": 3
   },
   "file_extension": ".py",
   "mimetype": "text/x-python",
   "name": "python",
   "nbconvert_exporter": "python",
   "pygments_lexer": "ipython3",
   "version": "3.6.1"
  }
 },
 "nbformat": 4,
 "nbformat_minor": 2
}
