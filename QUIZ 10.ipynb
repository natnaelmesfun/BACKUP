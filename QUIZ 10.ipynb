{
 "cells": [
  {
   "cell_type": "code",
   "execution_count": 11,
   "metadata": {
    "collapsed": true
   },
   "outputs": [],
   "source": [
    "import numpy as np \n",
    "from scipy import stats\n",
    "import pandas as pd\n",
    "import matplotlib.pyplot as plt \n",
    "%matplotlib inline\n",
    "from statistics import mean"
   ]
  },
  {
   "cell_type": "code",
   "execution_count": 37,
   "metadata": {},
   "outputs": [
    {
     "name": "stdout",
     "output_type": "stream",
     "text": [
      "[ 0.          0.10526316  0.21052632  0.31578947  0.42105263  0.52631579\n",
      "  0.63157895  0.73684211  0.84210526  0.94736842  1.05263158  1.15789474\n",
      "  1.26315789  1.36842105  1.47368421  1.57894737  1.68421053  1.78947368\n",
      "  1.89473684  2.        ]\n"
     ]
    }
   ],
   "source": [
    "x = np.linspace(0, 2, 20)\n",
    "y = [0.19, -1.41, 2.19, 3.84, 7.11, 0.18, 4.97, -4.79, 1.95, 7.13, 1.51, 4.66, 7.72, 7.92, 0.40, 3.67, 4.87, 3.29, 8.15, 14.56]\n",
    "print(x)\n",
    "#y = np([0.19, -1.41, 2.19, 3.84, 7.11, 0.18, 4.97, -4.79, 1.95, 7.13, 1.51, 4.66, 7.72, 7.92, 0.40, 3.67, 4.87, 3.29, 8.15, 14.56])"
   ]
  },
  {
   "cell_type": "code",
   "execution_count": 32,
   "metadata": {},
   "outputs": [
    {
     "data": {
      "text/plain": [
       "<matplotlib.collections.PathCollection at 0xcbe54909b0>"
      ]
     },
     "execution_count": 32,
     "metadata": {},
     "output_type": "execute_result"
    },
    {
     "data": {
      "image/png": "[encoded data removed]",
      "text/plain": [
       "<matplotlib.figure.Figure at 0xcbe94e0ba8>"
      ]
     },
     "metadata": {},
     "output_type": "display_data"
    }
   ],
   "source": [
    "fig, ax = plt.subplots(nrows=1, ncols=1, figsize=(8,5))\n",
    "ax.scatter(x, y, color=\"steelblue\")"
   ]
  },
  {
   "cell_type": "code",
   "execution_count": 38,
   "metadata": {},
   "outputs": [
    {
     "data": {
      "text/plain": [
       "3.9054999999999991"
      ]
     },
     "execution_count": 38,
     "metadata": {},
     "output_type": "execute_result"
    }
   ],
   "source": [
    "np.mean(y)"
   ]
  },
  {
   "cell_type": "code",
   "execution_count": 33,
   "metadata": {},
   "outputs": [
    {
     "name": "stdout",
     "output_type": "stream",
     "text": [
      "3.68064285714\n",
      "1.35206672301\n"
     ]
    }
   ],
   "source": [
    "bhat, ahat, rval, pval, siderr = stats.linregress(x,y)\n",
    "print(bhat)\n",
    "print(siderr)"
   ]
  },
  {
   "cell_type": "code",
   "execution_count": 21,
   "metadata": {},
   "outputs": [
    {
     "name": "stdout",
     "output_type": "stream",
     "text": [
      "SSE = 242.4617\n"
     ]
    }
   ],
   "source": [
    "yhat = ahat + bhat * x\n",
    "SSE = np.sum((yhat - y)**2)\n",
    "print(\"SSE = {:.4f}\".format(SSE))"
   ]
  },
  {
   "cell_type": "code",
   "execution_count": 44,
   "metadata": {},
   "outputs": [
    {
     "name": "stdout",
     "output_type": "stream",
     "text": [
      "sigma_hat**2 = 13.4701\n",
      "sigma_hat = 3.6702\n"
     ]
    }
   ],
   "source": [
    "varhat = SSE / (len(x)-2)\n",
    "print(\"sigma_hat**2 = {:.4f}\".format(varhat))\n",
    "sigma_hat = np.sqrt(varhat) \n",
    "print(\"sigma_hat = {:.4f}\".format(sigma_hat))"
   ]
  },
  {
   "cell_type": "code",
   "execution_count": 40,
   "metadata": {},
   "outputs": [
    {
     "name": "stdout",
     "output_type": "stream",
     "text": [
      "342.282695\n"
     ]
    }
   ],
   "source": [
    "SST = np.sum((y - np.mean(y))**2)\n",
    "print(SST)"
   ]
  },
  {
   "cell_type": "code",
   "execution_count": 41,
   "metadata": {},
   "outputs": [
    {
     "name": "stdout",
     "output_type": "stream",
     "text": [
      "0.29163312351\n"
     ]
    }
   ],
   "source": [
    "R_squerd = 1 - (SSE/SST)\n",
    "print(R_squerd)"
   ]
  },
  {
   "cell_type": "code",
   "execution_count": 43,
   "metadata": {},
   "outputs": [
    {
     "name": "stdout",
     "output_type": "stream",
     "text": [
      "3.30578885859e+15\n"
     ]
    }
   ],
   "source": [
    "SEbeat = np.sqrt(varhat / np.sum(x-np.mean(x))**2)\n",
    "print(SEbeat)"
   ]
  },
  {
   "cell_type": "code",
   "execution_count": 46,
   "metadata": {},
   "outputs": [
    {
     "name": "stdout",
     "output_type": "stream",
     "text": [
      "0.498093537156\n"
     ]
    }
   ],
   "source": [
    "SE_b = sigma_hat / np.sum((x - np.mean(x))**2)\n",
    "print(SE_b)"
   ]
  },
  {
   "cell_type": "code",
   "execution_count": 50,
   "metadata": {},
   "outputs": [
    {
     "name": "stdout",
     "output_type": "stream",
     "text": [
      "2.10092204024\n"
     ]
    }
   ],
   "source": [
    "t = stats.t.ppf(0.975, df=18)\n",
    "print(t)"
   ]
  },
  {
   "cell_type": "code",
   "execution_count": 53,
   "metadata": {},
   "outputs": [
    {
     "name": "stdout",
     "output_type": "stream",
     "text": [
      "CI_max: 4.72709854746\n",
      "CI_min: 2.63418716683\n"
     ]
    }
   ],
   "source": [
    "CI_max = bhat + (t * SE_b)\n",
    "CI_min = bhat - (t * SE_b)\n",
    "print('CI_max:', CI_max)\n",
    "print('CI_min:', CI_min)"
   ]
  },
  {
   "cell_type": "code",
   "execution_count": null,
   "metadata": {
    "collapsed": true
   },
   "outputs": [],
   "source": [
    "denom = 0\n",
    "for i in range(len(y)):\n",
    "    "
   ]
  }
 ],
 "metadata": {
  "kernelspec": {
   "display_name": "Python 3",
   "language": "python",
   "name": "python3"
  },
  "language_info": {
   "codemirror_mode": {
    "name": "ipython",
    "version": 3
   },
   "file_extension": ".py",
   "mimetype": "text/x-python",
   "name": "python",
   "nbconvert_exporter": "python",
   "pygments_lexer": "ipython3",
   "version": "3.6.1"
  }
 },
 "nbformat": 4,
 "nbformat_minor": 2
}
